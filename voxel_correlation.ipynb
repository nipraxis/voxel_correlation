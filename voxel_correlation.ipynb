{
 "cells": [
  {
   "cell_type": "markdown",
   "id": "6447c5f5",
   "metadata": {},
   "source": [
    "## Voxel correlation exercise"
   ]
  },
  {
   "cell_type": "code",
   "execution_count": null,
   "id": "ef56ed6f",
   "metadata": {},
   "outputs": [],
   "source": [
    "# import common modules\n",
    "import numpy as np  # the Python array package\n",
    "import matplotlib.pyplot as plt  # the Python plotting package\n",
    "\n",
    "import nibabel as nib\n",
    "\n",
    "import nipraxis"
   ]
  },
  {
   "cell_type": "markdown",
   "id": "0bf6bb43",
   "metadata": {},
   "source": [
    "Import the `events2neural` function from the Nipaxis module"
   ]
  },
  {
   "cell_type": "code",
   "execution_count": null,
   "id": "4ac5b065",
   "metadata": {},
   "outputs": [],
   "source": [
    "from nipraxis.stimuli import events2neural"
   ]
  },
  {
   "cell_type": "markdown",
   "id": "0080a611",
   "metadata": {},
   "source": [
    "Fetch the image to work on."
   ]
  },
  {
   "cell_type": "code",
   "execution_count": null,
   "id": "5b1d01b9",
   "metadata": {},
   "outputs": [],
   "source": [
    "# Load the function to fetch the data file we need.\n",
    "# Fetch the data file.\n",
    "data_fname = nipraxis.fetch_file('ds114_sub009_t2r1.nii')\n",
    "# Show the file name of the fetched data.\n",
    "data_fname"
   ]
  },
  {
   "cell_type": "markdown",
   "id": "73b41a69",
   "metadata": {},
   "source": [
    "Load the image with Nibabel."
   ]
  },
  {
   "cell_type": "code",
   "execution_count": null,
   "id": "d9d732aa",
   "metadata": {},
   "outputs": [],
   "source": [
    "#- Load the ds114_sub009_t2r1.nii image\n",
    "img = ...\n",
    "# Show the result\n",
    "img"
   ]
  },
  {
   "cell_type": "code",
   "execution_count": null,
   "id": "21030fce",
   "metadata": {
    "lines_to_next_cell": 2
   },
   "outputs": [],
   "source": [
    "assert img.affine.shape == (4, 4)\n",
    "assert len(img.shape) == 4"
   ]
  },
  {
   "cell_type": "code",
   "execution_count": null,
   "id": "462e6095",
   "metadata": {},
   "outputs": [],
   "source": [
    "#- Get the number of volumes in ds114_sub009_t2r1.nii\n",
    "n_trs = ...\n",
    "# Show the result\n",
    "n_trs"
   ]
  },
  {
   "cell_type": "markdown",
   "id": "8a325fc8",
   "metadata": {},
   "source": [
    "The TR (time between scans) is 2.5 seconds."
   ]
  },
  {
   "cell_type": "code",
   "execution_count": null,
   "id": "f3e09c59",
   "metadata": {},
   "outputs": [],
   "source": [
    "#: TR\n",
    "TR = 2.5"
   ]
  },
  {
   "cell_type": "markdown",
   "id": "c1e4a137",
   "metadata": {},
   "source": [
    "Get the condition file:"
   ]
  },
  {
   "cell_type": "code",
   "execution_count": null,
   "id": "64fe6c7a",
   "metadata": {},
   "outputs": [],
   "source": [
    "# Fetch the condition file\n",
    "cond_fname = nipraxis.fetch_file('ds114_sub009_t2r1_cond.txt')\n",
    "cond_fname"
   ]
  },
  {
   "cell_type": "markdown",
   "id": "a2439beb",
   "metadata": {},
   "source": [
    "Call the `events2neural` function to give you a time course that is 1 for\n",
    "the volumes during the task (thinking of verbs) and 0 for the volumes during\n",
    "rest.\n",
    "\n",
    "**Hint**: Check the help for `events2neural`, perhaps with Jupyter and the `?` suffix."
   ]
  },
  {
   "cell_type": "code",
   "execution_count": null,
   "id": "7a519e1d",
   "metadata": {},
   "outputs": [],
   "source": [
    "#- Call the events2neural function to generate the on-off values for\n",
    "#- each volume.\n",
    "time_course = ...\n",
    "# Plot the time course.\n",
    "plt.plot(time_course)"
   ]
  },
  {
   "cell_type": "markdown",
   "id": "7ff12737",
   "metadata": {},
   "source": [
    "Load the image data as an array called `data`"
   ]
  },
  {
   "cell_type": "code",
   "execution_count": null,
   "id": "41b8cba9",
   "metadata": {},
   "outputs": [],
   "source": [
    "# Show the result\n",
    "data.shape"
   ]
  },
  {
   "cell_type": "code",
   "execution_count": null,
   "id": "b05fe82f",
   "metadata": {},
   "outputs": [],
   "source": [
    "assert data.shape == img.shape"
   ]
  },
  {
   "cell_type": "markdown",
   "id": "e58469bd",
   "metadata": {},
   "source": [
    "Using slicing, drop the first *4* volumes, and the corresponding on-off values:"
   ]
  },
  {
   "cell_type": "code",
   "execution_count": null,
   "id": "e744f28a",
   "metadata": {},
   "outputs": [],
   "source": [
    "#- Drop the first 4 volumes, and the first 4 on-off values.\n",
    "data_from_4 = ...\n",
    "time_course_from_4 = ..."
   ]
  },
  {
   "cell_type": "code",
   "execution_count": null,
   "id": "c90cfd32",
   "metadata": {},
   "outputs": [],
   "source": [
    "assert data_from_4.dtype == np.float64\n",
    "assert data_from_4.shape[-1] == 169\n",
    "assert time_course_from_4.shape == (169,)"
   ]
  },
  {
   "cell_type": "markdown",
   "id": "e98e9487",
   "metadata": {},
   "source": [
    "Make a single brain-volume-sized array of all zero to hold the correlations:"
   ]
  },
  {
   "cell_type": "code",
   "execution_count": null,
   "id": "617bdff9",
   "metadata": {},
   "outputs": [],
   "source": [
    "#- Make a brain-volume-size array of 0 to hold the correlations\n",
    "correlations = ..."
   ]
  },
  {
   "cell_type": "code",
   "execution_count": null,
   "id": "a18af3ad",
   "metadata": {
    "lines_to_next_cell": 2
   },
   "outputs": [],
   "source": [
    "assert correlations.shape == img.shape[:-1]"
   ]
  },
  {
   "cell_type": "markdown",
   "id": "29d694ee",
   "metadata": {},
   "source": [
    "* Loop over all voxel indices on the first, then second, then third dimension;\n",
    "* extract the voxel time courses at each voxel coordinate in the image;\n",
    "* get the correlation between the voxel time course and neural prediction;\n",
    "* fill in the value in the correlations array.\n",
    "\n",
    "**Hint** - remember to use the `data_from_4` etc arrays.\n",
    "\n",
    "For extra points - some voxels correlations will give a warning for the\n",
    "calculation.  Why?  How can you fix this?\n",
    "\n",
    "**Hint for extra points**: By default, you will only see a warning once, for\n",
    "each cell you execute. If you want to be able to see each warning, for every\n",
    "time the warning is valid, add the following code to your code cell below.\n",
    "\n",
    "```python\n",
    "import warnings\n",
    "warnings.simplefilter(\"always\")\n",
    "```\n",
    "\n",
    "**End of hint for extra points**."
   ]
  },
  {
   "cell_type": "code",
   "execution_count": null,
   "id": "f3b5c25f",
   "metadata": {},
   "outputs": [],
   "source": [
    "#- Loop over all three voxel axes / indices.\n",
    "#- Extract the voxel time courses at each voxel.\n",
    "#- Get correlation value for voxel time course with on-off vector.\n",
    "#- Fill value in the correlations array."
   ]
  },
  {
   "cell_type": "code",
   "execution_count": null,
   "id": "52de5de0",
   "metadata": {},
   "outputs": [],
   "source": [
    "# Check you get the same answer when selecting a voxel time course\n",
    "# and running the correlation on that time course.  One example voxel\n",
    "# could be the voxel at array coordinate [42, 32, 19]\n",
    "voxel_time_course = data_from_4[42, 32, 19]\n",
    "single_cc = np.corrcoef(voxel_time_course, time_course_from_4)[0, 1]\n",
    "assert np.allclose(correlations[42, 32, 19], single_cc)"
   ]
  },
  {
   "cell_type": "markdown",
   "id": "a21c41ed",
   "metadata": {},
   "source": [
    "Plot the middle plane (slice on the third axis) from the correlations array.\n",
    "Can you see any sign of activity (high correlation) in the frontal lobe?"
   ]
  },
  {
   "cell_type": "code",
   "execution_count": null,
   "id": "35233e6e",
   "metadata": {},
   "outputs": [],
   "source": [
    "#- Plot the middle slice of the third axis from the correlations array"
   ]
  }
 ],
 "metadata": {
  "jupytext": {
   "notebook_metadata_filter": "all,-language_info",
   "split_at_heading": true,
   "text_representation": {
    "extension": ".Rmd",
    "format_name": "rmarkdown",
    "format_version": "1.2",
    "jupytext_version": "1.13.7"
   }
  },
  "kernelspec": {
   "display_name": "Python 3",
   "language": "python",
   "name": "python3"
  }
 },
 "nbformat": 4,
 "nbformat_minor": 5
}
