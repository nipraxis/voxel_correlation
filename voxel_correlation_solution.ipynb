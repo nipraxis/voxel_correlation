{
 "cells": [
  {
   "cell_type": "markdown",
   "id": "22835854",
   "metadata": {},
   "source": [
    "## Voxel correlation exercise"
   ]
  },
  {
   "cell_type": "code",
   "execution_count": 1,
   "id": "25bb2535",
   "metadata": {
    "execution": {
     "iopub.execute_input": "2022-05-16T15:01:35.167063Z",
     "iopub.status.busy": "2022-05-16T15:01:35.166379Z",
     "iopub.status.idle": "2022-05-16T15:01:35.653892Z",
     "shell.execute_reply": "2022-05-16T15:01:35.654315Z"
    }
   },
   "outputs": [],
   "source": [
    "# import common modules\n",
    "import numpy as np  # the Python array package\n",
    "import matplotlib.pyplot as plt  # the Python plotting package\n",
    "\n",
    "import nibabel as nib\n",
    "\n",
    "import nipraxis"
   ]
  },
  {
   "cell_type": "markdown",
   "id": "846fef4d",
   "metadata": {},
   "source": [
    "Import the `events2neural` function from the Nipaxis module"
   ]
  },
  {
   "cell_type": "code",
   "execution_count": 2,
   "id": "2c91f014",
   "metadata": {
    "execution": {
     "iopub.execute_input": "2022-05-16T15:01:35.658528Z",
     "iopub.status.busy": "2022-05-16T15:01:35.657821Z",
     "iopub.status.idle": "2022-05-16T15:01:35.660336Z",
     "shell.execute_reply": "2022-05-16T15:01:35.660772Z"
    }
   },
   "outputs": [],
   "source": [
    "from nipraxis.stimuli import events2neural"
   ]
  },
  {
   "cell_type": "markdown",
   "id": "345ccc7d",
   "metadata": {},
   "source": [
    "Fetch the image to work on."
   ]
  },
  {
   "cell_type": "code",
   "execution_count": 3,
   "id": "ddbb8e4f",
   "metadata": {
    "execution": {
     "iopub.execute_input": "2022-05-16T15:01:35.664832Z",
     "iopub.status.busy": "2022-05-16T15:01:35.664227Z",
     "iopub.status.idle": "2022-05-16T15:01:35.736331Z",
     "shell.execute_reply": "2022-05-16T15:01:35.736814Z"
    }
   },
   "outputs": [],
   "source": [
    "# Load the function to fetch the data file we need.\n",
    "# Fetch the data file.\n",
    "data_fname = nipraxis.fetch_file('ds114_sub009_t2r1.nii')\n",
    "# Show the file name of the fetched data.\n",
    "data_fname"
   ]
  },
  {
   "cell_type": "markdown",
   "id": "1f949c87",
   "metadata": {},
   "source": [
    "Load the image with Nibabel."
   ]
  },
  {
   "cell_type": "code",
   "execution_count": 4,
   "id": "207321ab",
   "metadata": {
    "execution": {
     "iopub.execute_input": "2022-05-16T15:01:35.741002Z",
     "iopub.status.busy": "2022-05-16T15:01:35.740300Z",
     "iopub.status.idle": "2022-05-16T15:01:35.744288Z",
     "shell.execute_reply": "2022-05-16T15:01:35.744791Z"
    }
   },
   "outputs": [],
   "source": [
    "#- Load the ds114_sub009_t2r1.nii image\n",
    "img = nib.load(data_fname)\n",
    "# Show the result\n",
    "img"
   ]
  },
  {
   "cell_type": "code",
   "execution_count": 5,
   "id": "1e351324",
   "metadata": {
    "execution": {
     "iopub.execute_input": "2022-05-16T15:01:35.748836Z",
     "iopub.status.busy": "2022-05-16T15:01:35.748157Z",
     "iopub.status.idle": "2022-05-16T15:01:35.749855Z",
     "shell.execute_reply": "2022-05-16T15:01:35.750270Z"
    },
    "lines_to_next_cell": 2
   },
   "outputs": [],
   "source": [
    "assert img.affine.shape == (4, 4)\n",
    "assert len(img.shape) == 4"
   ]
  },
  {
   "cell_type": "code",
   "execution_count": 6,
   "id": "f4da937f",
   "metadata": {
    "execution": {
     "iopub.execute_input": "2022-05-16T15:01:35.753992Z",
     "iopub.status.busy": "2022-05-16T15:01:35.753341Z",
     "iopub.status.idle": "2022-05-16T15:01:35.756252Z",
     "shell.execute_reply": "2022-05-16T15:01:35.755743Z"
    }
   },
   "outputs": [],
   "source": [
    "#- Get the number of volumes in ds114_sub009_t2r1.nii\n",
    "n_trs = img.shape[-1]\n",
    "# Show the result\n",
    "n_trs"
   ]
  },
  {
   "cell_type": "markdown",
   "id": "65cc126d",
   "metadata": {},
   "source": [
    "The TR (time between scans) is 2.5 seconds."
   ]
  },
  {
   "cell_type": "code",
   "execution_count": 7,
   "id": "d1c1ef2e",
   "metadata": {
    "execution": {
     "iopub.execute_input": "2022-05-16T15:01:35.759534Z",
     "iopub.status.busy": "2022-05-16T15:01:35.758943Z",
     "iopub.status.idle": "2022-05-16T15:01:35.761074Z",
     "shell.execute_reply": "2022-05-16T15:01:35.761499Z"
    }
   },
   "outputs": [],
   "source": [
    "#: TR\n",
    "TR = 2.5"
   ]
  },
  {
   "cell_type": "markdown",
   "id": "a7176813",
   "metadata": {},
   "source": [
    "Get the condition file:"
   ]
  },
  {
   "cell_type": "code",
   "execution_count": 8,
   "id": "71bdc1ff",
   "metadata": {
    "execution": {
     "iopub.execute_input": "2022-05-16T15:01:35.765202Z",
     "iopub.status.busy": "2022-05-16T15:01:35.764588Z",
     "iopub.status.idle": "2022-05-16T15:01:35.767665Z",
     "shell.execute_reply": "2022-05-16T15:01:35.768161Z"
    }
   },
   "outputs": [],
   "source": [
    "# Fetch the condition file\n",
    "cond_fname = nipraxis.fetch_file('ds114_sub009_t2r1_cond.txt')\n",
    "cond_fname"
   ]
  },
  {
   "cell_type": "markdown",
   "id": "9031ee79",
   "metadata": {},
   "source": [
    "Call the `events2neural` function to give you a time course that is 1 for\n",
    "the volumes during the task (thinking of verbs) and 0 for the volumes during\n",
    "rest.\n",
    "\n",
    "**Hint**: Check the help for `events2neural`, perhaps with Jupyter and the `?` suffix."
   ]
  },
  {
   "cell_type": "code",
   "execution_count": 9,
   "id": "29b3cddb",
   "metadata": {
    "execution": {
     "iopub.execute_input": "2022-05-16T15:01:35.771822Z",
     "iopub.status.busy": "2022-05-16T15:01:35.771227Z",
     "iopub.status.idle": "2022-05-16T15:01:35.893755Z",
     "shell.execute_reply": "2022-05-16T15:01:35.894281Z"
    }
   },
   "outputs": [],
   "source": [
    "#- Call the events2neural function to generate the on-off values for\n",
    "#- each volume.\n",
    "time_course = events2neural(cond_fname, TR, n_trs)\n",
    "# Plot the time course.\n",
    "plt.plot(time_course)"
   ]
  },
  {
   "cell_type": "markdown",
   "id": "7c485fe6",
   "metadata": {},
   "source": [
    "Using slicing, drop the first *4* volumes, and the corresponding on-off values:"
   ]
  },
  {
   "cell_type": "code",
   "execution_count": 10,
   "id": "e760faa0",
   "metadata": {
    "execution": {
     "iopub.execute_input": "2022-05-16T15:01:35.922912Z",
     "iopub.status.busy": "2022-05-16T15:01:35.922069Z",
     "iopub.status.idle": "2022-05-16T15:01:36.010491Z",
     "shell.execute_reply": "2022-05-16T15:01:36.010919Z"
    }
   },
   "outputs": [],
   "source": [
    "#- Drop the first 4 volumes, and the first 4 on-off values.\n",
    "data = img.get_fdata()\n",
    "data_from_4 = data[..., 4:]\n",
    "time_course_from_4 = time_course[4:]"
   ]
  },
  {
   "cell_type": "code",
   "execution_count": 11,
   "id": "d65245fe",
   "metadata": {
    "execution": {
     "iopub.execute_input": "2022-05-16T15:01:36.015412Z",
     "iopub.status.busy": "2022-05-16T15:01:36.014726Z",
     "iopub.status.idle": "2022-05-16T15:01:36.016557Z",
     "shell.execute_reply": "2022-05-16T15:01:36.016973Z"
    }
   },
   "outputs": [],
   "source": [
    "assert data_from_4.dtype == np.float64\n",
    "assert data_from_4.shape[-1] == 169\n",
    "assert time_course_from_4.shape == (169,)"
   ]
  },
  {
   "cell_type": "markdown",
   "id": "10814cf3",
   "metadata": {},
   "source": [
    "Make a single brain-volume-sized array of all zero to hold the correlations:"
   ]
  },
  {
   "cell_type": "code",
   "execution_count": 12,
   "id": "47b085d3",
   "metadata": {
    "execution": {
     "iopub.execute_input": "2022-05-16T15:01:36.020583Z",
     "iopub.status.busy": "2022-05-16T15:01:36.019894Z",
     "iopub.status.idle": "2022-05-16T15:01:36.022385Z",
     "shell.execute_reply": "2022-05-16T15:01:36.022803Z"
    }
   },
   "outputs": [],
   "source": [
    "#- Make a brain-volume-size array of 0 to hold the correlations\n",
    "correlations = np.zeros(data.shape[:-1])"
   ]
  },
  {
   "cell_type": "code",
   "execution_count": 13,
   "id": "73b9de00",
   "metadata": {
    "execution": {
     "iopub.execute_input": "2022-05-16T15:01:36.026331Z",
     "iopub.status.busy": "2022-05-16T15:01:36.025740Z",
     "iopub.status.idle": "2022-05-16T15:01:36.027707Z",
     "shell.execute_reply": "2022-05-16T15:01:36.028145Z"
    },
    "lines_to_next_cell": 2
   },
   "outputs": [],
   "source": [
    "assert correlations.shape == img.shape[:-1]"
   ]
  },
  {
   "cell_type": "markdown",
   "id": "72ddf32c",
   "metadata": {},
   "source": [
    "* Loop over all voxel indices on the first, then second, then third dimension;\n",
    "* extract the voxel time courses at each voxel coordinate in the image;\n",
    "* get the correlation between the voxel time course and neural prediction;\n",
    "* fill in the value in the correlations array."
   ]
  },
  {
   "cell_type": "markdown",
   "id": "6a1a2e17",
   "metadata": {},
   "source": [
    "For extra points - some voxels correlations will give a warning for the\n",
    "calculation.  Why?  How can you fix this?\n",
    "\n",
    "**Hint for extra points**: By default, you will only see a warning once, for\n",
    "each cell you execute. If you want to be able to see each warning, for every\n",
    "time the warning is valid, add the following code to your code cell below.\n",
    "\n",
    "```python\n",
    "import warnings\n",
    "warnings.simplefilter(\"always\")\n",
    "```\n",
    "\n",
    "**End of hint for extra points**."
   ]
  },
  {
   "cell_type": "code",
   "execution_count": 14,
   "id": "ef5e84e7",
   "metadata": {
    "execution": {
     "iopub.execute_input": "2022-05-16T15:01:36.047621Z",
     "iopub.status.busy": "2022-05-16T15:01:36.033878Z",
     "iopub.status.idle": "2022-05-16T15:01:49.837211Z",
     "shell.execute_reply": "2022-05-16T15:01:49.836600Z"
    }
   },
   "outputs": [],
   "source": [
    "#- Loop over all three voxel axes / indices.\n",
    "#- Extract the voxel time courses at each voxel.\n",
    "#- Get correlation value for voxel time course with on-off vector.\n",
    "#- Fill value in the correlations array.\n",
    "for i in range(data.shape[0]):\n",
    "    for j in range(data.shape[1]):\n",
    "        for k in range(data.shape[2]):\n",
    "            vox_values = data[i, j, k]\n",
    "            if np.all(vox_values == 0):\n",
    "                correlation = np.nan\n",
    "            else:\n",
    "                correlation = np.corrcoef(time_course, vox_values)[1, 0]\n",
    "            correlations[i, j, k] = correlation"
   ]
  },
  {
   "cell_type": "code",
   "execution_count": 15,
   "id": "e06072aa",
   "metadata": {
    "execution": {
     "iopub.execute_input": "2022-05-16T15:01:49.841486Z",
     "iopub.status.busy": "2022-05-16T15:01:49.840826Z",
     "iopub.status.idle": "2022-05-16T15:01:49.843470Z",
     "shell.execute_reply": "2022-05-16T15:01:49.843877Z"
    }
   },
   "outputs": [],
   "source": [
    "# Check you get the same answer when selecting a voxel time course\n",
    "# and running the correlation on that time course.  One example voxel\n",
    "# could be the voxel at array coordinate [42, 32, 19]\n",
    "voxel_time_course = data[42, 32, 19]\n",
    "single_cc = np.corrcoef(voxel_time_course, time_course)[0, 1]\n",
    "assert np.allclose(correlations[42, 32, 19], single_cc)"
   ]
  },
  {
   "cell_type": "markdown",
   "id": "2817ff77",
   "metadata": {},
   "source": [
    "Plot the middle plane (slice on the third axis) from the correlations array.\n",
    "Can you see any sign of activity (high correlation) in the frontal lobe?"
   ]
  },
  {
   "cell_type": "code",
   "execution_count": 16,
   "id": "6b06be4c",
   "metadata": {
    "execution": {
     "iopub.execute_input": "2022-05-16T15:01:49.864852Z",
     "iopub.status.busy": "2022-05-16T15:01:49.864233Z",
     "iopub.status.idle": "2022-05-16T15:01:49.956304Z",
     "shell.execute_reply": "2022-05-16T15:01:49.956734Z"
    }
   },
   "outputs": [],
   "source": [
    "#- Plot the middle slice of the third axis from the correlations array\n",
    "plt.imshow(correlations[:, :, 14], cmap='gray')"
   ]
  }
 ],
 "metadata": {
  "jupytext": {
   "notebook_metadata_filter": "all,-language_info",
   "split_at_heading": true,
   "text_representation": {
    "extension": ".Rmd",
    "format_name": "rmarkdown",
    "format_version": "1.2",
    "jupytext_version": "1.13.7"
   }
  },
  "kernelspec": {
   "display_name": "Python 3",
   "language": "python",
   "name": "python3"
  },
  "language_info": {
   "codemirror_mode": {
    "name": "ipython",
    "version": 3
   },
   "file_extension": ".py",
   "mimetype": "text/x-python",
   "name": "python",
   "nbconvert_exporter": "python",
   "pygments_lexer": "ipython3",
   "version": "3.8.13"
  }
 },
 "nbformat": 4,
 "nbformat_minor": 5
}
