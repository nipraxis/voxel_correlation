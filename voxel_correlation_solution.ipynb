{
 "cells": [
  {
   "cell_type": "markdown",
   "id": "28cd006a",
   "metadata": {},
   "source": [
    "## Voxel correlation exercise"
   ]
  },
  {
   "cell_type": "code",
   "execution_count": 1,
   "id": "99737457",
   "metadata": {
    "execution": {
     "iopub.execute_input": "2022-05-16T14:55:01.700247Z",
     "iopub.status.busy": "2022-05-16T14:55:01.699555Z",
     "iopub.status.idle": "2022-05-16T14:55:02.201065Z",
     "shell.execute_reply": "2022-05-16T14:55:02.201554Z"
    }
   },
   "outputs": [],
   "source": [
    "# import common modules\n",
    "import numpy as np  # the Python array package\n",
    "import matplotlib.pyplot as plt  # the Python plotting package\n",
    "\n",
    "import nibabel as nib\n",
    "\n",
    "import nipraxis"
   ]
  },
  {
   "cell_type": "markdown",
   "id": "3bc8fddc",
   "metadata": {},
   "source": [
    "Import the `events2neural` function from the Nipaxis module"
   ]
  },
  {
   "cell_type": "code",
   "execution_count": 2,
   "id": "5439353d",
   "metadata": {
    "execution": {
     "iopub.execute_input": "2022-05-16T14:55:02.205839Z",
     "iopub.status.busy": "2022-05-16T14:55:02.205235Z",
     "iopub.status.idle": "2022-05-16T14:55:02.207492Z",
     "shell.execute_reply": "2022-05-16T14:55:02.208106Z"
    }
   },
   "outputs": [],
   "source": [
    "from nipraxis.stimuli import events2neural"
   ]
  },
  {
   "cell_type": "markdown",
   "id": "0cc6674e",
   "metadata": {},
   "source": [
    "Fetch the image to work on."
   ]
  },
  {
   "cell_type": "code",
   "execution_count": 3,
   "id": "a3594d00",
   "metadata": {
    "execution": {
     "iopub.execute_input": "2022-05-16T14:55:02.212231Z",
     "iopub.status.busy": "2022-05-16T14:55:02.211510Z",
     "iopub.status.idle": "2022-05-16T14:55:02.284413Z",
     "shell.execute_reply": "2022-05-16T14:55:02.284830Z"
    }
   },
   "outputs": [],
   "source": [
    "# Load the function to fetch the data file we need.\n",
    "# Fetch the data file.\n",
    "data_fname = nipraxis.fetch_file('ds114_sub009_t2r1.nii')\n",
    "# Show the file name of the fetched data.\n",
    "data_fname"
   ]
  },
  {
   "cell_type": "markdown",
   "id": "72c60ae0",
   "metadata": {},
   "source": [
    "Load the image with Nibabel."
   ]
  },
  {
   "cell_type": "code",
   "execution_count": 4,
   "id": "3e029f11",
   "metadata": {
    "execution": {
     "iopub.execute_input": "2022-05-16T14:55:02.288905Z",
     "iopub.status.busy": "2022-05-16T14:55:02.288147Z",
     "iopub.status.idle": "2022-05-16T14:55:02.292328Z",
     "shell.execute_reply": "2022-05-16T14:55:02.292808Z"
    }
   },
   "outputs": [],
   "source": [
    "#- Load the ds114_sub009_t2r1.nii image\n",
    "img = nib.load(data_fname)\n",
    "# Show the result\n",
    "img"
   ]
  },
  {
   "cell_type": "code",
   "execution_count": 5,
   "id": "c561de4c",
   "metadata": {
    "execution": {
     "iopub.execute_input": "2022-05-16T14:55:02.297039Z",
     "iopub.status.busy": "2022-05-16T14:55:02.296372Z",
     "iopub.status.idle": "2022-05-16T14:55:02.298155Z",
     "shell.execute_reply": "2022-05-16T14:55:02.298563Z"
    },
    "lines_to_next_cell": 2
   },
   "outputs": [],
   "source": [
    "assert img.affine.shape == (4, 4)\n",
    "assert len(img.shape) == 4"
   ]
  },
  {
   "cell_type": "code",
   "execution_count": 6,
   "id": "44fd58e7",
   "metadata": {
    "execution": {
     "iopub.execute_input": "2022-05-16T14:55:02.302334Z",
     "iopub.status.busy": "2022-05-16T14:55:02.301689Z",
     "iopub.status.idle": "2022-05-16T14:55:02.304087Z",
     "shell.execute_reply": "2022-05-16T14:55:02.304500Z"
    }
   },
   "outputs": [],
   "source": [
    "#- Get the number of volumes in ds114_sub009_t2r1.nii\n",
    "n_trs = img.shape[-1]\n",
    "# Show the result\n",
    "n_trs"
   ]
  },
  {
   "cell_type": "markdown",
   "id": "70d5e25d",
   "metadata": {},
   "source": [
    "The TR (time between scans) is 2.5 seconds."
   ]
  },
  {
   "cell_type": "code",
   "execution_count": 7,
   "id": "2663a4c7",
   "metadata": {
    "execution": {
     "iopub.execute_input": "2022-05-16T14:55:02.307985Z",
     "iopub.status.busy": "2022-05-16T14:55:02.307297Z",
     "iopub.status.idle": "2022-05-16T14:55:02.309547Z",
     "shell.execute_reply": "2022-05-16T14:55:02.309976Z"
    }
   },
   "outputs": [],
   "source": [
    "#: TR\n",
    "TR = 2.5"
   ]
  },
  {
   "cell_type": "markdown",
   "id": "8c12ddc9",
   "metadata": {},
   "source": [
    "Get the condition file:"
   ]
  },
  {
   "cell_type": "code",
   "execution_count": 8,
   "id": "28f88fdf",
   "metadata": {
    "execution": {
     "iopub.execute_input": "2022-05-16T14:55:02.313978Z",
     "iopub.status.busy": "2022-05-16T14:55:02.313334Z",
     "iopub.status.idle": "2022-05-16T14:55:02.316677Z",
     "shell.execute_reply": "2022-05-16T14:55:02.317093Z"
    }
   },
   "outputs": [],
   "source": [
    "# Fetch the condition file\n",
    "cond_fname = nipraxis.fetch_file('ds114_sub009_t2r1_cond.txt')\n",
    "cond_fname"
   ]
  },
  {
   "cell_type": "markdown",
   "id": "2091f6fb",
   "metadata": {},
   "source": [
    "Call the `events2neural` function to give you a time course that is 1 for\n",
    "the volumes during the task (thinking of verbs) and 0 for the volumes during\n",
    "rest.\n",
    "\n",
    "**Hint**: Check the help for `events2neural`, perhaps with Jupyter and the `?` suffix."
   ]
  },
  {
   "cell_type": "code",
   "execution_count": 9,
   "id": "8519886a",
   "metadata": {
    "execution": {
     "iopub.execute_input": "2022-05-16T14:55:02.320778Z",
     "iopub.status.busy": "2022-05-16T14:55:02.320173Z",
     "iopub.status.idle": "2022-05-16T14:55:02.447745Z",
     "shell.execute_reply": "2022-05-16T14:55:02.448155Z"
    }
   },
   "outputs": [],
   "source": [
    "#- Call the events2neural function to generate the on-off values for\n",
    "#- each volume.\n",
    "time_course = events2neural(cond_fname, TR, n_trs)\n",
    "# Plot the time course.\n",
    "plt.plot(time_course)"
   ]
  },
  {
   "cell_type": "markdown",
   "id": "916bcb03",
   "metadata": {},
   "source": [
    "Using slicing, drop the first *4* volumes, and the corresponding on-off values:"
   ]
  },
  {
   "cell_type": "code",
   "execution_count": 10,
   "id": "ceaaf8d2",
   "metadata": {
    "execution": {
     "iopub.execute_input": "2022-05-16T14:55:02.474179Z",
     "iopub.status.busy": "2022-05-16T14:55:02.473573Z",
     "iopub.status.idle": "2022-05-16T14:55:02.563350Z",
     "shell.execute_reply": "2022-05-16T14:55:02.563773Z"
    }
   },
   "outputs": [],
   "source": [
    "#- Drop the first 4 volumes, and the first 4 on-off values.\n",
    "data = img.get_fdata()\n",
    "data_from_4 = data[..., 4:]\n",
    "time_course_from_4 = time_course[4:]"
   ]
  },
  {
   "cell_type": "code",
   "execution_count": 11,
   "id": "33342e2b",
   "metadata": {
    "execution": {
     "iopub.execute_input": "2022-05-16T14:55:02.567903Z",
     "iopub.status.busy": "2022-05-16T14:55:02.567239Z",
     "iopub.status.idle": "2022-05-16T14:55:02.569528Z",
     "shell.execute_reply": "2022-05-16T14:55:02.569947Z"
    }
   },
   "outputs": [],
   "source": [
    "assert data_from_4.dtype == np.float64\n",
    "assert data_from_4.shape[-1] == 169\n",
    "assert time_course_from_4.shape == (169,)"
   ]
  },
  {
   "cell_type": "markdown",
   "id": "429a88b2",
   "metadata": {},
   "source": [
    "Make a single brain-volume-sized array of all zero to hold the correlations:"
   ]
  },
  {
   "cell_type": "code",
   "execution_count": 12,
   "id": "8ecceddd",
   "metadata": {
    "execution": {
     "iopub.execute_input": "2022-05-16T14:55:02.573469Z",
     "iopub.status.busy": "2022-05-16T14:55:02.572842Z",
     "iopub.status.idle": "2022-05-16T14:55:02.575161Z",
     "shell.execute_reply": "2022-05-16T14:55:02.575575Z"
    }
   },
   "outputs": [],
   "source": [
    "#- Make a brain-volume-size array of 0 to hold the correlations\n",
    "correlations = np.zeros(data.shape[:-1])"
   ]
  },
  {
   "cell_type": "code",
   "execution_count": 13,
   "id": "7d99dc08",
   "metadata": {
    "execution": {
     "iopub.execute_input": "2022-05-16T14:55:02.579647Z",
     "iopub.status.busy": "2022-05-16T14:55:02.578870Z",
     "iopub.status.idle": "2022-05-16T14:55:02.580747Z",
     "shell.execute_reply": "2022-05-16T14:55:02.581165Z"
    },
    "lines_to_next_cell": 2
   },
   "outputs": [],
   "source": [
    "assert correlations.shape == img.shape[:-1]"
   ]
  },
  {
   "cell_type": "markdown",
   "id": "275f0124",
   "metadata": {},
   "source": [
    "* Loop over all voxel indices on the first, then second, then third dimension;\n",
    "* extract the voxel time courses at each voxel coordinate in the image;\n",
    "* get the correlation between the voxel time course and neural prediction;\n",
    "* fill in the value in the correlations array."
   ]
  },
  {
   "cell_type": "markdown",
   "id": "4af38cab",
   "metadata": {},
   "source": [
    "For extra points - some voxels correlations will give a warning for the\n",
    "calculation.  Why?  How can you fix this?\n",
    "\n",
    "**Hint for extra points**: By default, you will only see a warning once, for\n",
    "each cell you execute. If you want to be able to see each warning, for every\n",
    "time the warning is valid, add the following code to your code cell below.\n",
    "\n",
    "```python\n",
    "import warnings\n",
    "warnings.simplefilter(\"always\")\n",
    "```\n",
    "\n",
    "**End of hint for extra points**."
   ]
  },
  {
   "cell_type": "code",
   "execution_count": 14,
   "id": "2955e461",
   "metadata": {
    "execution": {
     "iopub.execute_input": "2022-05-16T14:55:02.589292Z",
     "iopub.status.busy": "2022-05-16T14:55:02.586987Z",
     "iopub.status.idle": "2022-05-16T14:55:16.975656Z",
     "shell.execute_reply": "2022-05-16T14:55:16.976110Z"
    }
   },
   "outputs": [],
   "source": [
    "#- Loop over all three voxel axes / indices.\n",
    "#- Extract the voxel time courses at each voxel.\n",
    "#- Get correlation value for voxel time course with on-off vector.\n",
    "#- Fill value in the correlations array.\n",
    "for i in range(data.shape[0]):\n",
    "    for j in range(data.shape[1]):\n",
    "        for k in range(data.shape[2]):\n",
    "            vox_values = data[i, j, k]\n",
    "            if np.all(vox_values == 0):\n",
    "                correlation = np.nan\n",
    "            else:\n",
    "                correlation = np.corrcoef(time_course, vox_values)[1, 0]\n",
    "            correlations[i, j, k] = correlation"
   ]
  },
  {
   "cell_type": "code",
   "execution_count": 15,
   "id": "5d9fdaad",
   "metadata": {
    "execution": {
     "iopub.execute_input": "2022-05-16T14:55:16.980303Z",
     "iopub.status.busy": "2022-05-16T14:55:16.979643Z",
     "iopub.status.idle": "2022-05-16T14:55:16.981570Z",
     "shell.execute_reply": "2022-05-16T14:55:16.981990Z"
    }
   },
   "outputs": [],
   "source": [
    "# Screening test - for just one given voxel.\n",
    "assert np.round(correlations[30, 30, 15], 3) == -0.072"
   ]
  },
  {
   "cell_type": "markdown",
   "id": "4231b2f1",
   "metadata": {},
   "source": [
    "Plot the middle plane (slice on the third axis) from the correlations array.\n",
    "Can you see any sign of activity (high correlation) in the frontal lobe?"
   ]
  },
  {
   "cell_type": "code",
   "execution_count": 16,
   "id": "37eee691",
   "metadata": {
    "execution": {
     "iopub.execute_input": "2022-05-16T14:55:17.001854Z",
     "iopub.status.busy": "2022-05-16T14:55:17.001154Z",
     "iopub.status.idle": "2022-05-16T14:55:17.096532Z",
     "shell.execute_reply": "2022-05-16T14:55:17.096947Z"
    }
   },
   "outputs": [],
   "source": [
    "#- Plot the middle slice of the third axis from the correlations array\n",
    "plt.imshow(correlations[:, :, 14], cmap='gray')"
   ]
  }
 ],
 "metadata": {
  "jupytext": {
   "notebook_metadata_filter": "all,-language_info",
   "split_at_heading": true,
   "text_representation": {
    "extension": ".Rmd",
    "format_name": "rmarkdown",
    "format_version": "1.2",
    "jupytext_version": "1.13.7"
   }
  },
  "kernelspec": {
   "display_name": "Python 3",
   "language": "python",
   "name": "python3"
  },
  "language_info": {
   "codemirror_mode": {
    "name": "ipython",
    "version": 3
   },
   "file_extension": ".py",
   "mimetype": "text/x-python",
   "name": "python",
   "nbconvert_exporter": "python",
   "pygments_lexer": "ipython3",
   "version": "3.8.13"
  }
 },
 "nbformat": 4,
 "nbformat_minor": 5
}
