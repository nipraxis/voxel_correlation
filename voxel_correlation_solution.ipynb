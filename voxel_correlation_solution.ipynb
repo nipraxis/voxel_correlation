{
 "cells": [
  {
   "cell_type": "markdown",
   "id": "8019eca0",
   "metadata": {},
   "source": [
    "## Voxel correlation exercise"
   ]
  },
  {
   "cell_type": "code",
   "execution_count": 1,
   "id": "9502e67d",
   "metadata": {
    "execution": {
     "iopub.execute_input": "2022-05-16T14:47:37.613073Z",
     "iopub.status.busy": "2022-05-16T14:47:37.612315Z",
     "iopub.status.idle": "2022-05-16T14:47:38.135912Z",
     "shell.execute_reply": "2022-05-16T14:47:38.136354Z"
    }
   },
   "outputs": [],
   "source": [
    "# import common modules\n",
    "import numpy as np  # the Python array package\n",
    "import matplotlib.pyplot as plt  # the Python plotting package\n",
    "\n",
    "import nibabel as nib\n",
    "\n",
    "import nipraxis"
   ]
  },
  {
   "cell_type": "markdown",
   "id": "06657f40",
   "metadata": {},
   "source": [
    "Import the `events2neural` function from the Nipaxis module"
   ]
  },
  {
   "cell_type": "code",
   "execution_count": 2,
   "id": "85e2c622",
   "metadata": {
    "execution": {
     "iopub.execute_input": "2022-05-16T14:47:38.141194Z",
     "iopub.status.busy": "2022-05-16T14:47:38.140451Z",
     "iopub.status.idle": "2022-05-16T14:47:38.142709Z",
     "shell.execute_reply": "2022-05-16T14:47:38.143112Z"
    }
   },
   "outputs": [],
   "source": [
    "from nipraxis.stimuli import events2neural"
   ]
  },
  {
   "cell_type": "markdown",
   "id": "b8b97149",
   "metadata": {},
   "source": [
    "Fetch the image to work on."
   ]
  },
  {
   "cell_type": "code",
   "execution_count": 3,
   "id": "808a9cb6",
   "metadata": {
    "execution": {
     "iopub.execute_input": "2022-05-16T14:47:38.147544Z",
     "iopub.status.busy": "2022-05-16T14:47:38.146941Z",
     "iopub.status.idle": "2022-05-16T14:47:38.219707Z",
     "shell.execute_reply": "2022-05-16T14:47:38.220090Z"
    }
   },
   "outputs": [],
   "source": [
    "# Load the function to fetch the data file we need.\n",
    "# Fetch the data file.\n",
    "data_fname = nipraxis.fetch_file('ds114_sub009_t2r1.nii')\n",
    "# Show the file name of the fetched data.\n",
    "data_fname"
   ]
  },
  {
   "cell_type": "markdown",
   "id": "ce528333",
   "metadata": {},
   "source": [
    "Load the image with Nibabel."
   ]
  },
  {
   "cell_type": "code",
   "execution_count": 4,
   "id": "524d87c3",
   "metadata": {
    "execution": {
     "iopub.execute_input": "2022-05-16T14:47:38.224003Z",
     "iopub.status.busy": "2022-05-16T14:47:38.223373Z",
     "iopub.status.idle": "2022-05-16T14:47:38.228203Z",
     "shell.execute_reply": "2022-05-16T14:47:38.228634Z"
    }
   },
   "outputs": [],
   "source": [
    "#- Load the ds114_sub009_t2r1.nii image\n",
    "img = nib.load(data_fname)\n",
    "# Show the result\n",
    "img"
   ]
  },
  {
   "cell_type": "code",
   "execution_count": 5,
   "id": "8b450487",
   "metadata": {
    "execution": {
     "iopub.execute_input": "2022-05-16T14:47:38.232655Z",
     "iopub.status.busy": "2022-05-16T14:47:38.232042Z",
     "iopub.status.idle": "2022-05-16T14:47:38.234558Z",
     "shell.execute_reply": "2022-05-16T14:47:38.235007Z"
    },
    "lines_to_next_cell": 2
   },
   "outputs": [],
   "source": [
    "assert img.affine.shape == (4, 4)\n",
    "assert len(img.shape) == 4"
   ]
  },
  {
   "cell_type": "code",
   "execution_count": 6,
   "id": "8289be92",
   "metadata": {
    "execution": {
     "iopub.execute_input": "2022-05-16T14:47:38.239213Z",
     "iopub.status.busy": "2022-05-16T14:47:38.238518Z",
     "iopub.status.idle": "2022-05-16T14:47:38.242121Z",
     "shell.execute_reply": "2022-05-16T14:47:38.241641Z"
    }
   },
   "outputs": [],
   "source": [
    "#- Get the number of volumes in ds114_sub009_t2r1.nii\n",
    "n_trs = img.shape[-1]\n",
    "# Show the result\n",
    "n_trs"
   ]
  },
  {
   "cell_type": "markdown",
   "id": "ebf88edb",
   "metadata": {},
   "source": [
    "The TR (time between scans) is 2.5 seconds."
   ]
  },
  {
   "cell_type": "code",
   "execution_count": 7,
   "id": "574c6005",
   "metadata": {
    "execution": {
     "iopub.execute_input": "2022-05-16T14:47:38.246324Z",
     "iopub.status.busy": "2022-05-16T14:47:38.245648Z",
     "iopub.status.idle": "2022-05-16T14:47:38.247537Z",
     "shell.execute_reply": "2022-05-16T14:47:38.247957Z"
    }
   },
   "outputs": [],
   "source": [
    "#: TR\n",
    "TR = 2.5"
   ]
  },
  {
   "cell_type": "markdown",
   "id": "0e80c0f0",
   "metadata": {},
   "source": [
    "Get the condition file:"
   ]
  },
  {
   "cell_type": "code",
   "execution_count": 8,
   "id": "1d545e80",
   "metadata": {
    "execution": {
     "iopub.execute_input": "2022-05-16T14:47:38.252028Z",
     "iopub.status.busy": "2022-05-16T14:47:38.251116Z",
     "iopub.status.idle": "2022-05-16T14:47:38.259538Z",
     "shell.execute_reply": "2022-05-16T14:47:38.260077Z"
    }
   },
   "outputs": [],
   "source": [
    "# Fetch the condition file\n",
    "cond_fname = nipraxis.fetch_file('ds114_sub009_t2r1_cond.txt')\n",
    "cond_fname"
   ]
  },
  {
   "cell_type": "markdown",
   "id": "2e19bc84",
   "metadata": {},
   "source": [
    "Call the `events2neural` function to give you a time course that is 1 for\n",
    "the volumes during the task (thinking of verbs) and 0 for the volumes during\n",
    "rest.\n",
    "\n",
    "**Hint**: Check the help for `events2neural`, perhaps with Jupyter and the `?` suffix."
   ]
  },
  {
   "cell_type": "code",
   "execution_count": 9,
   "id": "39ceb963",
   "metadata": {
    "execution": {
     "iopub.execute_input": "2022-05-16T14:47:38.264641Z",
     "iopub.status.busy": "2022-05-16T14:47:38.264018Z",
     "iopub.status.idle": "2022-05-16T14:47:38.400496Z",
     "shell.execute_reply": "2022-05-16T14:47:38.400920Z"
    }
   },
   "outputs": [],
   "source": [
    "#- Call the events2neural function to generate the on-off values for\n",
    "#- each volume.\n",
    "time_course = events2neural(cond_fname, TR, n_trs)\n",
    "# Plot the time course.\n",
    "plt.plot(time_course)"
   ]
  },
  {
   "cell_type": "markdown",
   "id": "99f8109c",
   "metadata": {},
   "source": [
    "Using slicing, drop the first *4* volumes, and the corresponding on-off values:"
   ]
  },
  {
   "cell_type": "code",
   "execution_count": 10,
   "id": "ae022940",
   "metadata": {
    "execution": {
     "iopub.execute_input": "2022-05-16T14:47:38.429179Z",
     "iopub.status.busy": "2022-05-16T14:47:38.428416Z",
     "iopub.status.idle": "2022-05-16T14:47:38.518577Z",
     "shell.execute_reply": "2022-05-16T14:47:38.518969Z"
    }
   },
   "outputs": [],
   "source": [
    "#- Drop the first 4 volumes, and the first 4 on-off values.\n",
    "data = img.get_fdata()\n",
    "data_from_4 = data[..., 4:]\n",
    "time_course_from_4 = time_course[4:]"
   ]
  },
  {
   "cell_type": "code",
   "execution_count": 11,
   "id": "c74f9cd5",
   "metadata": {
    "execution": {
     "iopub.execute_input": "2022-05-16T14:47:38.523098Z",
     "iopub.status.busy": "2022-05-16T14:47:38.522440Z",
     "iopub.status.idle": "2022-05-16T14:47:38.524756Z",
     "shell.execute_reply": "2022-05-16T14:47:38.525152Z"
    }
   },
   "outputs": [],
   "source": [
    "assert data_from_4.dtype == np.float64\n",
    "assert data_from_4.shape[-1] == 169\n",
    "assert time_course_from_4.shape == (169,)"
   ]
  },
  {
   "cell_type": "markdown",
   "id": "c87080c3",
   "metadata": {},
   "source": [
    "Make a single brain-volume-sized array of all zero to hold the correlations:"
   ]
  },
  {
   "cell_type": "code",
   "execution_count": 12,
   "id": "ba67326d",
   "metadata": {
    "execution": {
     "iopub.execute_input": "2022-05-16T14:47:38.529345Z",
     "iopub.status.busy": "2022-05-16T14:47:38.528715Z",
     "iopub.status.idle": "2022-05-16T14:47:38.531156Z",
     "shell.execute_reply": "2022-05-16T14:47:38.531659Z"
    }
   },
   "outputs": [],
   "source": [
    "#- Make a brain-volume-size array of 0 to hold the correlations\n",
    "correlations = np.zeros(data.shape[:-1])"
   ]
  },
  {
   "cell_type": "code",
   "execution_count": 13,
   "id": "f60a7790",
   "metadata": {
    "execution": {
     "iopub.execute_input": "2022-05-16T14:47:38.536121Z",
     "iopub.status.busy": "2022-05-16T14:47:38.535513Z",
     "iopub.status.idle": "2022-05-16T14:47:38.537622Z",
     "shell.execute_reply": "2022-05-16T14:47:38.538102Z"
    },
    "lines_to_next_cell": 2
   },
   "outputs": [],
   "source": [
    "assert correlations.shape == img.shape[:-1]"
   ]
  },
  {
   "cell_type": "markdown",
   "id": "e7d223cc",
   "metadata": {},
   "source": [
    "* Loop over all voxel indices on the first, then second, then third dimension;\n",
    "* extract the voxel time courses at each voxel coordinate in the image;\n",
    "* get the correlation between the voxel time course and neural prediction;\n",
    "* fill in the value in the correlations array."
   ]
  },
  {
   "cell_type": "markdown",
   "id": "2f4f1fdc",
   "metadata": {},
   "source": [
    "For extra points - some voxels correlations will give a warning for the\n",
    "calculation.  Why?  How can you fix this?\n",
    "\n",
    "**Hint for extra points**: By default, you will only see a warning once, for each cell you execute. If you want to be able to see each warning, for every time the warning is valid, add the following code:\n",
    "\n",
    "```python\n",
    "import warnings\n",
    "warnings.simplefilter(\"always\")\n",
    "```\n",
    "\n",
    "**End of hint for extra points**."
   ]
  },
  {
   "cell_type": "code",
   "execution_count": 14,
   "id": "849211e8",
   "metadata": {
    "execution": {
     "iopub.execute_input": "2022-05-16T14:47:38.556282Z",
     "iopub.status.busy": "2022-05-16T14:47:38.555624Z",
     "iopub.status.idle": "2022-05-16T14:47:52.626121Z",
     "shell.execute_reply": "2022-05-16T14:47:52.626553Z"
    }
   },
   "outputs": [],
   "source": [
    "#- Loop over all three voxel axes / indices.\n",
    "#- Extract the voxel time courses at each voxel.\n",
    "#- Get correlation value for voxel time course with on-off vector.\n",
    "#- Fill value in the correlations array.\n",
    "for i in range(data.shape[0]):\n",
    "    for j in range(data.shape[1]):\n",
    "        for k in range(data.shape[2]):\n",
    "            vox_values = data[i, j, k]\n",
    "            if np.all(vox_values == 0):\n",
    "                correlation = np.nan\n",
    "            else:\n",
    "                correlation = np.corrcoef(time_course, vox_values)[1, 0]\n",
    "            correlations[i, j, k] = correlation"
   ]
  },
  {
   "cell_type": "code",
   "execution_count": 15,
   "id": "e8024d18",
   "metadata": {
    "execution": {
     "iopub.execute_input": "2022-05-16T14:47:52.630909Z",
     "iopub.status.busy": "2022-05-16T14:47:52.630281Z",
     "iopub.status.idle": "2022-05-16T14:47:52.632200Z",
     "shell.execute_reply": "2022-05-16T14:47:52.632636Z"
    }
   },
   "outputs": [],
   "source": [
    "# Screening test - for just one given voxel.\n",
    "assert np.round(correlations[30, 30, 15], 3) == -0.072"
   ]
  },
  {
   "cell_type": "markdown",
   "id": "3a6f30ad",
   "metadata": {},
   "source": [
    "Plot the middle plane (slice on the third axis) from the correlations array.\n",
    "Can you see any sign of activity (high correlation) in the frontal lobe?"
   ]
  },
  {
   "cell_type": "code",
   "execution_count": 16,
   "id": "ce603d3e",
   "metadata": {
    "execution": {
     "iopub.execute_input": "2022-05-16T14:47:52.653038Z",
     "iopub.status.busy": "2022-05-16T14:47:52.652358Z",
     "iopub.status.idle": "2022-05-16T14:47:52.746997Z",
     "shell.execute_reply": "2022-05-16T14:47:52.747388Z"
    }
   },
   "outputs": [],
   "source": [
    "#- Plot the middle slice of the third axis from the correlations array\n",
    "plt.imshow(correlations[:, :, 14], cmap='gray')"
   ]
  }
 ],
 "metadata": {
  "jupytext": {
   "notebook_metadata_filter": "all,-language_info",
   "split_at_heading": true,
   "text_representation": {
    "extension": ".Rmd",
    "format_name": "rmarkdown",
    "format_version": "1.2",
    "jupytext_version": "1.13.7"
   }
  },
  "kernelspec": {
   "display_name": "Python 3",
   "language": "python",
   "name": "python3"
  },
  "language_info": {
   "codemirror_mode": {
    "name": "ipython",
    "version": 3
   },
   "file_extension": ".py",
   "mimetype": "text/x-python",
   "name": "python",
   "nbconvert_exporter": "python",
   "pygments_lexer": "ipython3",
   "version": "3.8.13"
  }
 },
 "nbformat": 4,
 "nbformat_minor": 5
}
